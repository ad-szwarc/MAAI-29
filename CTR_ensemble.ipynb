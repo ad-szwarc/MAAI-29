{
 "cells": [
  {
   "cell_type": "code",
   "execution_count": 9,
   "metadata": {},
   "outputs": [],
   "source": [
    "import numpy as np\n",
    "import pandas as pd\n",
    "import scipy\n",
    "from sklearn.metrics import roc_auc_score"
   ]
  },
  {
   "cell_type": "code",
   "execution_count": 3,
   "metadata": {},
   "outputs": [],
   "source": [
    "y_val = np.loadtxt('proper_datasets/y_val.csv')\n",
    "pCTR_val = np.loadtxt('CTR_models/gbm_dam/pCTR_gbm_dam_val.csv')\n",
    "pCTR_val_gbm2 = pd.read_csv('CTR_models/gbm2/pCTR_gbm2_val.csv', index_col=0).values.flatten()\n",
    "pCTR_val_nn = np.loadtxt('ensemble/ensemble_base_learners_set2/val/r7_mlp_nn_14.csv')"
   ]
  },
  {
   "cell_type": "code",
   "execution_count": 4,
   "metadata": {},
   "outputs": [],
   "source": [
    "base_learners = pd.DataFrame(np.vstack([pCTR_val, pCTR_val_gbm2, pCTR_val_nn]).T,\n",
    "                            columns=['Damian', 'Stefan2', 'NN'])"
   ]
  },
  {
   "cell_type": "code",
   "execution_count": 77,
   "metadata": {},
   "outputs": [
    {
     "name": "stdout",
     "output_type": "stream",
     "text": [
      "100 0.8961361370083729 [[1 6 5]]\n",
      "200 0.8963051126281918 [[ 1 11 10]]\n",
      "300 0.8963356902555457 [[ 1 16 15]]\n",
      "400 0.89633586954867 [[ 1 17 16]]\n",
      "500 0.89633586954867 [[ 1 17 16]]\n",
      "600 0.89633586954867 [[ 1 17 16]]\n",
      "700 0.89633586954867 [[ 1 17 16]]\n",
      "800 0.89633586954867 [[ 1 17 16]]\n",
      "900 0.89633586954867 [[ 1 17 16]]\n",
      "1000 0.89633586954867 [[ 1 17 16]]\n",
      "1100 0.89633586954867 [[ 1 17 16]]\n",
      "1200 0.89633586954867 [[ 1 17 16]]\n",
      "1300 0.89633586954867 [[ 1 17 16]]\n",
      "1400 0.89633586954867 [[ 1 17 16]]\n",
      "1500 0.89633586954867 [[ 1 17 16]]\n",
      "1600 0.89633586954867 [[ 1 17 16]]\n",
      "1700 0.89633586954867 [[ 1 17 16]]\n",
      "1800 0.89633586954867 [[ 1 17 16]]\n",
      "1900 0.89633586954867 [[ 1 17 16]]\n",
      "2000 0.89633586954867 [[ 1 17 16]]\n",
      "2100 0.89633586954867 [[ 1 17 16]]\n",
      "2200 0.89633586954867 [[ 1 17 16]]\n",
      "2300 0.89633586954867 [[ 1 17 16]]\n",
      "2400 0.89633586954867 [[ 1 17 16]]\n",
      "2500 0.89633586954867 [[ 1 17 16]]\n",
      "2600 0.89633586954867 [[ 1 17 16]]\n",
      "2700 0.89633586954867 [[ 1 17 16]]\n",
      "2800 0.89633586954867 [[ 1 17 16]]\n",
      "2900 0.89633586954867 [[ 1 17 16]]\n",
      "3000 0.89633586954867 [[ 1 17 16]]\n",
      "3100 0.89633586954867 [[ 1 17 16]]\n",
      "3200 0.89633586954867 [[ 1 17 16]]\n",
      "3300 0.89633586954867 [[ 1 17 16]]\n",
      "3400 0.89633586954867 [[ 1 17 16]]\n",
      "3500 0.89633586954867 [[ 1 17 16]]\n",
      "3600 0.89633586954867 [[ 1 17 16]]\n",
      "3700 0.89633586954867 [[ 1 17 16]]\n",
      "3800 0.89633586954867 [[ 1 17 16]]\n",
      "3900 0.89633586954867 [[ 1 17 16]]\n",
      "4000 0.89633586954867 [[ 1 17 16]]\n",
      "4100 0.89633586954867 [[ 1 17 16]]\n",
      "4200 0.89633586954867 [[ 1 17 16]]\n",
      "4300 0.89633586954867 [[ 1 17 16]]\n",
      "4400 0.89633586954867 [[ 1 17 16]]\n",
      "4500 0.89633586954867 [[ 1 17 16]]\n",
      "4600 0.89633586954867 [[ 1 17 16]]\n",
      "4700 0.89633586954867 [[ 1 17 16]]\n",
      "4800 0.89633586954867 [[ 1 17 16]]\n",
      "4900 0.89633586954867 [[ 1 17 16]]\n",
      "5000 0.89633586954867 [[ 1 17 16]]\n",
      "5100 0.89633586954867 [[ 1 17 16]]\n",
      "5200 0.89633586954867 [[ 1 17 16]]\n",
      "5300 0.89633586954867 [[ 1 17 16]]\n",
      "5400 0.89633586954867 [[ 1 17 16]]\n",
      "5500 0.89633586954867 [[ 1 17 16]]\n",
      "5600 0.89633586954867 [[ 1 17 16]]\n",
      "5700 0.89633586954867 [[ 1 17 16]]\n",
      "5800 0.89633586954867 [[ 1 17 16]]\n",
      "5900 0.89633586954867 [[ 1 17 16]]\n",
      "6000 0.89633586954867 [[ 1 17 16]]\n",
      "6100 0.89633586954867 [[ 1 17 16]]\n",
      "6200 0.89633586954867 [[ 1 17 16]]\n",
      "6300 0.89633586954867 [[ 1 17 16]]\n",
      "6400 0.89633586954867 [[ 1 17 16]]\n",
      "6500 0.89633586954867 [[ 1 17 16]]\n",
      "6600 0.89633586954867 [[ 1 17 16]]\n",
      "6700 0.89633586954867 [[ 1 17 16]]\n",
      "6800 0.89633586954867 [[ 1 17 16]]\n"
     ]
    },
    {
     "data": {
      "text/plain": [
       "(0.89633586954867, array([[ 1, 17, 16]]))"
      ]
     },
     "execution_count": 77,
     "metadata": {},
     "output_type": "execute_result"
    }
   ],
   "source": [
    "total_preds = [] \n",
    "i = 0\n",
    "best_auc = 0.5\n",
    "\n",
    "for x1 in range(1,20):\n",
    "    for x2 in range(1,20):\n",
    "        for x3 in range(1,20):\n",
    "            \n",
    "            i += 1\n",
    "            \n",
    "            w = np.atleast_2d([x1, x2, x3])\n",
    "            weighted_CTR = np.log(base_learners/(1+base_learners))\n",
    "            weighted_CTR =  np.dot(weighted_CTR, w.T)\n",
    "            weighted_CTR /= np.sum(w) # normalize weights\n",
    "\n",
    "            weighted_CTR = 1 / (1 + np.exp(-weighted_CTR)) # take logistic / sigmoid\n",
    "\n",
    "            auc = roc_auc_score(y_val, weighted_CTR)\n",
    "            \n",
    "            if auc > best_auc:\n",
    "                best_auc = auc\n",
    "                w_best = w\n",
    "                \n",
    "            if i % 100 == 0:\n",
    "                print(i, best_auc, w_best)\n",
    "            \n",
    "            total_preds.append([x1, x2, x3, auc])\n",
    "\n",
    "best_auc, w_best"
   ]
  },
  {
   "cell_type": "markdown",
   "metadata": {},
   "source": [
    "### As [1,6,5] and [1,17,16] are very close in terms of performance, we go with [1,6,5] for simplicity."
   ]
  }
 ],
 "metadata": {
  "kernelspec": {
   "display_name": "Python 3",
   "language": "python",
   "name": "python3"
  },
  "language_info": {
   "codemirror_mode": {
    "name": "ipython",
    "version": 3
   },
   "file_extension": ".py",
   "mimetype": "text/x-python",
   "name": "python",
   "nbconvert_exporter": "python",
   "pygments_lexer": "ipython3",
   "version": "3.6.6"
  }
 },
 "nbformat": 4,
 "nbformat_minor": 2
}
