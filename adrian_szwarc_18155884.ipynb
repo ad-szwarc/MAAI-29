{
  "nbformat": 4,
  "nbformat_minor": 0,
  "metadata": {
    "colab": {
      "name": "adrian_szwarc_18155884.ipynb",
      "version": "0.3.2",
      "provenance": [],
      "collapsed_sections": [],
      "toc_visible": true,
      "include_colab_link": true
    },
    "kernelspec": {
      "name": "python3",
      "display_name": "Python 3"
    },
    "accelerator": "GPU"
  },
  "cells": [
    {
      "cell_type": "markdown",
      "metadata": {
        "id": "view-in-github",
        "colab_type": "text"
      },
      "source": [
        "<a href=\"https://colab.research.google.com/github/ad-szwarc/MAAI-29/blob/master/adrian_szwarc_18155884.ipynb\" target=\"_parent\"><img src=\"https://colab.research.google.com/assets/colab-badge.svg\" alt=\"Open In Colab\"/></a>"
      ]
    },
    {
      "metadata": {
        "id": "6NQVCToZkRV8",
        "colab_type": "text"
      },
      "cell_type": "markdown",
      "source": [
        "# COMP0124 MAAI Individual Coursework \n",
        "\n",
        "This individual Coursework has two parts, which is worth 50 points (50% of your overall score). The first part is about the Matrix Game, and the second part concerns Multi-Agent Reinforcement Learning.\n",
        "\n",
        "## Instructions\n",
        "1.   To start this CW, please duplicate this notebook at first:\n",
        "  - Choose \"File -> Save a copy in Drive\" and open/run it in Colab.\n",
        "  - Or you can download the notebook and run it in your local jupyter notebook server.\n",
        "2.   This is a coding assignment, please write your code at `### TODO ###` blocks. There is an explanation question in Part II, please use  𝐿𝐴𝑇𝐸𝑋 or Markdown to type your answer.\n",
        "3.   Before submitting your notebook, **make sure that it runs without errors**, we also provide a validation tool in the end of this notebook.\n",
        "  - To check this, reload your notebook and the Python kernel, and run the notebook from the first to the last cell.\n",
        "  - Please do not change any methods or variables' name in the notebook, otherwise, you cannot get marking correctly.\n",
        "  - We would not help you debug the code, if we cannot run your submitted notebook, you will get zero point. \n",
        "4.  Download your notebook and submit it on Moodle.\n",
        "  - Click on \"File -> Download .ipynb\".\n",
        "  - Rename your notebook to ***firstname_lastname_studentnumber.ipynb***. (Please strictly follow the naming requirement.)\n",
        "  - Upload to Moodle.\n",
        "5. This CW would due by **23:55 26/04/2019**, please checkout the [submission entrance](https://moodle-1819.ucl.ac.uk/mod/assign/view.php?id=1070705) in the Moodle.\n",
        "6. If you have any question, please contact TAs: [Ying Wen](mailto:ying.wen@cs.ucl.ac.uk) and [Minne Li](minne.li@cs.ucl.ac.uk)."
      ]
    },
    {
      "metadata": {
        "id": "dvk15WL4lisG",
        "colab_type": "text"
      },
      "cell_type": "markdown",
      "source": [
        "## Part I: Matrix Game (26 points)\n",
        "\n",
        "We start with the simplest setting: Matrix Game (a.k.a Stage Game/Normal Form Game). In this part, you will try to solve the matrix game with full knowledge of the payoff for each player in the game.\n",
        "\n",
        "\n",
        "\n",
        "Given a two-player, two-action matrix game, we have the payoff matrices as follows:\n",
        "$$\n",
        "\\mathbf{R}^1 = \\left[\\begin{matrix}\n",
        "0 & 3 \\\\\n",
        "1 &2\n",
        "\\end{matrix}\\right] \n",
        "\\quad \n",
        "\\mathbf{R}^2 = \\left[\\begin{matrix}\n",
        "3 & 2 \\\\\n",
        "0 & 1\n",
        "\\end{matrix}\\right]\n",
        "$$\n",
        "\n",
        "Each player selects an action from the action space $\\{1,2\\}$ which determines the payoffs to the players. If the player 1 chooses action $i$ and the player 2 chooses action $j$, then the player 1 and player2 receive the rewards $r^1_{ij}$ and $r^2_{ij}$ respectively. For example, if both players choose action $1$, then the player 1 would have $r^1_{11}=0$ and player 1 would receive $r^2_{11}=3$.\n",
        "\n",
        "Then, we can use $\\alpha\\in [0,1] $ represents the strategy for player 1, where $\\alpha$ corresponds to the probability of player 1 selecting the first action (action 1), and $1-\\alpha$ is the probability of choosing the second action (action 2). Similarly, we use $\\beta$ to be the strategy for player 2.\n",
        "\n",
        "Given the pair of strategies $(\\alpha, \\beta)$, we can have the expected payoffs for two players. Denote $V^1(\\alpha, \\beta)$ and $V^2(\\alpha, \\beta)$ as the expected payoffs for two players respectively:\n",
        "\n",
        "$$\n",
        "\\begin{aligned} V^{1}(\\alpha, \\beta) &=\\alpha \\beta r^1_{11}+\\alpha(1-\\beta) r^1_{12}+(1-\\alpha) \\beta r^1_{21}+(1-\\alpha)(1-\\beta) r^1_{22} \\\\ &=u^1 \\alpha \\beta+\\alpha\\left(r^1_{12}-r^1_{22}\\right)+\\beta\\left(r_{21}-r^1_{22}\\right)+r^1_{22} \\end{aligned}\n",
        "$$\n",
        "$$\n",
        "\\begin{aligned} V^{2}(\\alpha, \\beta) &=\\alpha \\beta r^2_{11}+\\alpha(1-\\beta) r^2_{12}+(1-\\alpha) \\beta r^2_{21}+(1-\\alpha)(1-\\beta) r^2_{22} \\\\ &=u^2 \\alpha \\beta+\\alpha\\left(r^2_{12}-r^2_{22}\\right)+\\beta\\left(r_{21}-r^2_{22}\\right)+r^2_{22}\\end{aligned}\n",
        "$$\n",
        "\n",
        "where\n",
        "\n",
        "$$\n",
        "\\begin{aligned} u^1 &=r^1_{11}-r^1_{12}-r^1_{21}+r^1_{22} \\\\  u^2 &=r^2_{11}-r^2_{12}-r^2_{21}+r^2_{22} .\\end{aligned}\n",
        "$$\n",
        "\n"
      ]
    },
    {
      "metadata": {
        "id": "Buu2AbE3oQR3",
        "colab_type": "text"
      },
      "cell_type": "markdown",
      "source": [
        "#### Set up matrix game (4 points)\n",
        "\n"
      ]
    },
    {
      "metadata": {
        "id": "Y1PijoUYXdHG",
        "colab_type": "code",
        "colab": {}
      },
      "cell_type": "code",
      "source": [
        "import numpy as np\n",
        "from copy import deepcopy\n",
        "\n",
        "\n",
        "def U(payoff):\n",
        "    ########### TODO: Compute u (1 point) ###########\n",
        "    u = payoff[0,0] - payoff[0,1] - payoff[1,0] + payoff[1,1]\n",
        "    ########### END TODO ############################\n",
        "    return u\n",
        "  \n",
        "    \n",
        "# expected payoff\n",
        "def V(alpha, beta, payoff):\n",
        "    ########### TODO: Compute expected payoff of given strategies alpha and beta (1 point) ###########\n",
        "    u = U(payoff)\n",
        "    v = (u * alpha * beta) + (alpha * (payoff[0,1] - payoff[1,1])) + (beta * (payoff[1,0] - payoff[1,1])) + payoff[1,1]\n",
        "    ########### END TODO ##############################################################################\n",
        "    return v\n",
        "\n",
        "\n",
        "payoff_0 = np.array([[0, 3], \n",
        "                     [1, 2]])\n",
        "payoff_1 = np.array([[3, 2], \n",
        "                     [0, 1]])\n",
        "\n",
        "pi_alpha = 0. # init policy for player 1\n",
        "pi_beta = 0.9 # init policy for player 2\n",
        "\n",
        "########### TODO:Give nash strategy of given matrix game (2 points) ###########\n",
        "pi_alpha_nash = 0.5\n",
        "pi_beta_nash = 0.5\n",
        "########### END TODO ###############################################################\n",
        "\n",
        "u_alpha = U(payoff_0)\n",
        "u_beta = U(payoff_1)"
      ],
      "execution_count": 0,
      "outputs": []
    },
    {
      "metadata": {
        "id": "JPFoafboX5fD",
        "colab_type": "text"
      },
      "cell_type": "markdown",
      "source": [
        "#### Infinitesimal Gredient Ascent (IGA) (6 points)\n",
        "\n",
        "To find the optimal strategies, here we use the Infinitesimal Gradient Ascent (IGA) to adjust the strategies at each iteration by considering the effect of changing its strategy on its expected payoffs.  These effects can be captured by calculating the partial derivatives of its expected payoff with respect to its strategy.\n",
        "\n",
        "$$\n",
        "\\begin{aligned} \\frac{\\partial V^{1}(\\alpha, \\beta)}{\\partial \\alpha} &=\\beta u^1+\\left(r^1_{12}-r^1_{22}\\right) \\\\ \\frac{\\partial V^{2}(\\alpha, \\beta)}{\\partial \\beta} &=\\alpha u^2+\\left(r^2_{21}-r^2_{22}\\right). \\end{aligned}\n",
        "$$\n",
        "\n",
        "Accodirng the gradient from partial derivatives, players could adjust the strategies in the direction of current gradient with some step size $\\eta$. If $(\\alpha_k, \\beta_k)$ is the strategy pair at $k$th iteration, then using IGA update the strategies would get the new strategies:\n",
        "\n",
        "$$\n",
        "\\begin{array}{l}{\\alpha_{k+1}=\\alpha_{k}+\\eta \\frac{\\partial V^{1}\\left(\\alpha_{k}, \\beta_{k}\\right)}{\\partial \\alpha_{k}}} \\\\ {\\beta_{k+1}=\\beta_{k}+\\eta \\frac{\\partial V^{2}\\left(\\alpha_{k}, \\beta_{k}\\right)}{\\partial \\beta_{k}}}\\end{array}\n",
        "$$"
      ]
    },
    {
      "metadata": {
        "id": "jz8iGEn7XjZP",
        "colab_type": "code",
        "colab": {}
      },
      "cell_type": "code",
      "source": [
        "def IGA(pi_alpha,\n",
        "        pi_beta,\n",
        "        payoff_0,\n",
        "        payoff_1,\n",
        "        u_alpha,\n",
        "        u_beta,\n",
        "        iteration=1000, # iteration number\n",
        "        eta=0.01 # step size\n",
        "       ):\n",
        "    pi_alpha_history = [pi_alpha]\n",
        "    pi_beta_history = [pi_beta]\n",
        "    pi_alpha_gradient_history = [0.]\n",
        "    pi_beta_gradient_history = [0.]\n",
        "    for i in range(iteration):\n",
        "        ########### TODO:Implement IGA (6 points) ###########\n",
        "        pi_alpha_gradient = pi_beta * u_alpha + (payoff_0[0,1] - payoff_0[1,1])\n",
        "        pi_beta_gradient = pi_alpha * u_beta + (payoff_1[1,0] - payoff_1[1,1])\n",
        "        pi_alpha_next = pi_alpha + eta * pi_alpha_gradient\n",
        "        pi_beta_next = pi_beta + eta * pi_beta_gradient\n",
        "        ########### END TODO ###############################\n",
        "        pi_alpha = max(0., min(1., pi_alpha_next))\n",
        "        pi_beta = max(0., min(1., pi_beta_next))\n",
        "        pi_alpha_gradient_history.append(pi_alpha_gradient)\n",
        "        pi_beta_gradient_history.append(pi_beta_gradient)\n",
        "        pi_alpha_history.append(pi_alpha)\n",
        "        pi_beta_history.append(pi_beta)\n",
        "    return pi_alpha_history, \\\n",
        "           pi_beta_history, \\\n",
        "           pi_alpha_gradient_history, \\\n",
        "           pi_beta_gradient_history"
      ],
      "execution_count": 0,
      "outputs": []
    },
    {
      "metadata": {
        "id": "uHK9uOF5i1bx",
        "colab_type": "text"
      },
      "cell_type": "markdown",
      "source": [
        "#### WoLF-IGA (8 points)\n",
        "\n",
        "The above IGA algorithm uses constant step size. A specific method for varying the learning rate here is WoLF (Win or Learn Fast),  it allows the step size varies over time. Let $\\alpha^{e}$ and $\\beta^{e}$ represent the equilibrium strategies of two players, now we have new updated rules for WoLF-IGA algorithm:\n",
        "\n",
        "$$\n",
        "\\begin{array}{l}{\\alpha_{k+1}=\\alpha_{k}+\\eta_k^{1} \\frac{\\partial V^{1}\\left(\\alpha_{k}, \\beta_{k}\\right)}{\\partial \\alpha_{k}}} \\\\ {\\beta_{k+1}=\\beta_{k}+\\eta_k^{2}  \\frac{\\partial V^{2}\\left(\\alpha_{k}, \\beta_{k}\\right)}{\\partial \\beta_{k}}}\\end{array}\n",
        "$$\n",
        "\n",
        "where\n",
        "\n",
        "$$\n",
        "\\eta_{k}^{1}=\\left\\{\\begin{array}{l}{\\eta_{\\min } \\text { if } V^1\\left(\\alpha_{k}, \\beta_{k}\\right)>V^1\\left(\\alpha^{e}, \\beta_{k}\\right)} \\\\ {\\eta_{\\max } \\text { otherwise }}\\end{array}\\right.\n",
        "$$\n",
        "$$\n",
        "\\eta_{k}^{2}=\\left\\{\\begin{array}{l}{\\eta_{\\min } \\text { if } V^2\\left(\\alpha_{k}, \\beta_{k}\\right)>V^2\\left(\\alpha_{k}, \\beta^{e}\\right)} \\\\ {\\eta_{\\max } \\text { otherwise }}\\end{array}\\right.\n",
        "$$.\n",
        "\n"
      ]
    },
    {
      "metadata": {
        "id": "GyeREOn5i69H",
        "colab_type": "code",
        "colab": {}
      },
      "cell_type": "code",
      "source": [
        "def WoLF_IGA(pi_alpha,\n",
        "             pi_beta, \n",
        "             payoff_0, \n",
        "             payoff_1,\n",
        "             u_alpha,\n",
        "             u_beta,\n",
        "             pi_alpha_nash, \n",
        "             pi_beta_nash,\n",
        "             iteration=1000,\n",
        "             eta_min=0.01, # min step size\n",
        "             eta_max=0.04 # max step size \n",
        "            ):\n",
        "    pi_alpha_history = [pi_alpha]\n",
        "    pi_beta_history = [pi_beta]\n",
        "    pi_alpha_gradient_history = [0.]\n",
        "    pi_beta_gradient_history = [0.]\n",
        "    for i in range(iteration):\n",
        "        ########### TODO:Implement WoLF-IGA (6 points) ###########\n",
        "        pi_alpha_gradient = pi_beta * u_alpha + (payoff_0[0,1] - payoff_0[1,1])\n",
        "        pi_beta_gradient = pi_alpha * u_beta + (payoff_1[1,0] - payoff_1[1,1])\n",
        "        if V(pi_alpha, pi_beta, payoff_0) > V(pi_alpha_nash, pi_beta, payoff_0):\n",
        "          pi_alpha_next = pi_alpha + eta_min * pi_alpha_gradient\n",
        "        else:\n",
        "          pi_alpha_next = pi_alpha + eta_max * pi_alpha_gradient\n",
        "        if V(pi_alpha, pi_beta, payoff_1) > V(pi_alpha, pi_beta_nash, payoff_1):\n",
        "          pi_beta_next = pi_beta + eta_min * pi_beta_gradient\n",
        "        else:\n",
        "          pi_beta_next = pi_beta + eta_max * pi_beta_gradient\n",
        "        ########### END TODO #####################################\n",
        "        pi_alpha = max(0., min(1., pi_alpha_next))\n",
        "        pi_beta = max(0., min(1., pi_beta_next))\n",
        "        pi_alpha_gradient_history.append(pi_alpha_gradient)\n",
        "        pi_beta_gradient_history.append(pi_beta_gradient)\n",
        "        pi_alpha_history.append(pi_alpha)\n",
        "        pi_beta_history.append(pi_beta)\n",
        "    return pi_alpha_history, \\\n",
        "           pi_beta_history, \\\n",
        "           pi_alpha_gradient_history, \\\n",
        "           pi_beta_gradient_history"
      ],
      "execution_count": 0,
      "outputs": []
    },
    {
      "metadata": {
        "id": "m87DHp5ejEbs",
        "colab_type": "text"
      },
      "cell_type": "markdown",
      "source": [
        "#### IGA-PP (8 points)\n",
        "\n",
        "The IGA agent uses the gradient from other's current strategies to adjust its strategy. Suppose that one player knows the change direction of the other’s strategy,\n",
        "i.e., strategy derivative, in addition to its current strategy.\n",
        "Then the player can forecast the other’s strategy and adjust its strategy in response to the forecasted strategy. Thus the strategy update rules is changed to by using the policy prediction (IGA-PP):\n",
        "\n",
        "$$\n",
        "\\begin{array}{l}{\\alpha_{k+1}=\\alpha_{k}+\\eta\\frac{\\partial V^{1}\\left(\\alpha_{k}, \\beta_{k} + \\gamma \\partial_{\\beta}V^{2}\\left(\\alpha_{k}, \\beta_{k}\\right)  \\right)}{\\partial \\alpha_{k}}} \\\\ {\\beta_{k+1}=\\beta_{k}+\\eta  \\frac{\\partial V^{2}\\left(\\alpha_{k} + \\gamma \\partial_{\\alpha} V^{1}\\left(\\alpha_{k}, \\beta_{k} \\right) , \\beta_{k}\\right)}{\\partial \\beta_{k}}}\\end{array}\n",
        "$$"
      ]
    },
    {
      "metadata": {
        "id": "HdWyTm_FjGqk",
        "colab_type": "code",
        "colab": {}
      },
      "cell_type": "code",
      "source": [
        "def IGA_PP(pi_alpha,\n",
        "           pi_beta,\n",
        "           payoff_0,\n",
        "           payoff_1,\n",
        "           u_alpha,\n",
        "           u_beta,\n",
        "           iteration=10000,\n",
        "           eta=0.01, # step size\n",
        "           gamma=0.01 # step size for policy prediction\n",
        "          ):\n",
        "    pi_alpha_history = [pi_alpha]\n",
        "    pi_beta_history = [pi_beta]\n",
        "    pi_alpha_gradient_history = [0.]\n",
        "    pi_beta_gradient_history = [0.]\n",
        "    for i in range(iteration):\n",
        "        ########### TODO:Implement IGA-PP (6 points) ###########\n",
        "        pi_alpha_gradient = (pi_beta * u_alpha + (payoff_0[0,1] - payoff_0[1,1])) +gamma*u_alpha*(pi_alpha * u_beta +(payoff_1[1,0] - payoff_1[1,1]))\n",
        "        pi_beta_gradient = (pi_alpha * u_beta + (payoff_1[1,0] - payoff_1[1,1])) +gamma*u_beta*(pi_beta * u_alpha + (payoff_0[0,1] - payoff_0[1,1]))\n",
        "        pi_alpha_next = pi_alpha + eta * pi_alpha_gradient\n",
        "        pi_beta_next = pi_beta + eta * pi_beta_gradient\n",
        "        ########### END TODO ####################################\n",
        "        pi_alpha = max(0., min(1., pi_alpha_next))\n",
        "        pi_beta = max(0., min(1., pi_beta_next))\n",
        "        pi_alpha_gradient_history.append(pi_alpha_gradient)\n",
        "        pi_beta_gradient_history.append(pi_beta_gradient)\n",
        "        pi_alpha_history.append(pi_alpha)\n",
        "        pi_beta_history.append(pi_beta)\n",
        "    return pi_alpha_history, \\\n",
        "           pi_beta_history, \\\n",
        "           pi_alpha_gradient_history, \\\n",
        "           pi_beta_gradient_history"
      ],
      "execution_count": 0,
      "outputs": []
    },
    {
      "metadata": {
        "id": "ckT05j6hj7KI",
        "colab_type": "text"
      },
      "cell_type": "markdown",
      "source": [
        "#### Run and compare different methods"
      ]
    },
    {
      "metadata": {
        "id": "9IcCRaxZAowK",
        "colab_type": "code",
        "colab": {}
      },
      "cell_type": "code",
      "source": [
        "%matplotlib inline\n",
        "import matplotlib\n",
        "import matplotlib.pyplot as plt\n",
        "\n",
        "FONTSIZE = 12\n",
        "\n",
        "# Tool to plot the learning dynamics\n",
        "def plot_dynamics(history_pi_0, history_pi_1, pi_alpha_gradient_history, pi_beta_gradient_history, title=''):\n",
        "    colors = range(len(history_pi_1))\n",
        "    fig = plt.figure(figsize=(6, 5))\n",
        "    ax = fig.add_subplot(111)\n",
        "\n",
        "    scatter = ax.scatter(history_pi_0, history_pi_1, c=colors, s=1)\n",
        "    ax.scatter(0.5, 0.5, c='r', s=15., marker='*')\n",
        "    colorbar = fig.colorbar(scatter, ax=ax)\n",
        "    colorbar.set_label('Iterations', rotation=270, fontsize=FONTSIZE)\n",
        "\n",
        "    skip = slice(0, len(history_pi_0), 50)\n",
        "    ax.quiver(history_pi_0[skip],\n",
        "              history_pi_1[skip],\n",
        "              pi_alpha_gradient_history[skip],\n",
        "              pi_beta_gradient_history[skip],\n",
        "              units='xy', scale=10., zorder=3, color='blue',\n",
        "              width=0.007, headwidth=3., headlength=4.)\n",
        "\n",
        "    ax.set_ylabel(\"Policy of Player 2\", fontsize=FONTSIZE)\n",
        "    ax.set_xlabel(\"Policy of Player 1\", fontsize=FONTSIZE)\n",
        "    ax.set_ylim(0, 1)\n",
        "    ax.set_xlim(0, 1)\n",
        "    ax.set_title(title, fontsize=FONTSIZE+8)\n",
        "    plt.tight_layout()\n",
        "    plt.show()\n"
      ],
      "execution_count": 0,
      "outputs": []
    },
    {
      "metadata": {
        "id": "wPXdMsGFM2b0",
        "colab_type": "text"
      },
      "cell_type": "markdown",
      "source": [
        "We have set up the running code for three algorithms on given matrix game as below. You can run/validate and tune (e.g., try different parameters, observe the convergence and learning dynamics) the results by yourself."
      ]
    },
    {
      "metadata": {
        "id": "fPtKIX4Gj93i",
        "colab_type": "code",
        "colab": {
          "base_uri": "https://localhost:8080/",
          "height": 1127
        },
        "outputId": "b3680184-163c-431e-8911-8e4a2938f950"
      },
      "cell_type": "code",
      "source": [
        "agents = ['IGA', 'WoLF-IGA', 'IGA-PP']\n",
        "\n",
        "for agent in agents:\n",
        "\n",
        "  if agent == 'IGA':\n",
        "      pi_alpha_history, \\\n",
        "      pi_beta_history, \\\n",
        "      pi_alpha_gradient_history, \\\n",
        "      pi_beta_gradient_history = IGA(pi_alpha,\n",
        "                                     pi_beta,\n",
        "                                     payoff_0,\n",
        "                                     payoff_1,\n",
        "                                     u_alpha,\n",
        "                                     u_beta,\n",
        "                                     iteration=1000, # iteration number\n",
        "                                     eta=0.0037 # step size\n",
        "                                    )\n",
        "  elif agent == 'WoLF-IGA':\n",
        "      pi_alpha_history, \\\n",
        "      pi_beta_history, \\\n",
        "      pi_alpha_gradient_history, \\\n",
        "      pi_beta_gradient_history = WoLF_IGA(pi_alpha,\n",
        "                                          pi_beta,\n",
        "                                          payoff_0,\n",
        "                                          payoff_1,\n",
        "                                          u_alpha,\n",
        "                                          u_beta,\n",
        "                                          pi_alpha_nash=pi_alpha_nash,\n",
        "                                          pi_beta_nash=pi_beta_nash,\n",
        "                                          iteration=1000, # iteration number\n",
        "                                          eta_min=0.02, # min step size\n",
        "                                          eta_max=0.06 # max step size \n",
        "                                         )\n",
        "\n",
        "\n",
        "  elif agent == 'IGA-PP':\n",
        "      pi_alpha_history, \\\n",
        "      pi_beta_history, \\\n",
        "      pi_alpha_gradient_history, \\\n",
        "      pi_beta_gradient_history = IGA_PP(pi_alpha,\n",
        "                                        pi_beta,\n",
        "                                        payoff_0,\n",
        "                                        payoff_1,\n",
        "                                        u_alpha,\n",
        "                                        u_beta,\n",
        "                                        iteration=10000, # iteration number\n",
        "                                        eta=0.01, # step size\n",
        "                                        gamma=0.03 # step size for policy prediction\n",
        "                                       )\n",
        "\n",
        "\n",
        "  plot_dynamics(pi_alpha_history,\n",
        "                pi_beta_history,\n",
        "                pi_alpha_gradient_history,\n",
        "                pi_beta_gradient_history,\n",
        "                agent)\n",
        "  print('{} Done'.format(agent))"
      ],
      "execution_count": 150,
      "outputs": [
        {
          "output_type": "display_data",
          "data": {
            "image/png": "[encoded data removed]",
            "text/plain": [
              "<Figure size 432x360 with 2 Axes>"
            ]
          },
          "metadata": {
            "tags": []
          }
        },
        {
          "output_type": "stream",
          "text": [
            "IGA Done\n"
          ],
          "name": "stdout"
        },
        {
          "output_type": "display_data",
          "data": {
            "image/png": "[encoded data removed]",
            "text/plain": [
              "<Figure size 432x360 with 2 Axes>"
            ]
          },
          "metadata": {
            "tags": []
          }
        },
        {
          "output_type": "stream",
          "text": [
            "WoLF-IGA Done\n"
          ],
          "name": "stdout"
        },
        {
          "output_type": "display_data",
          "data": {
            "image/png": "[encoded data removed]",
            "text/plain": [
              "<Figure size 432x360 with 2 Axes>"
            ]
          },
          "metadata": {
            "tags": []
          }
        },
        {
          "output_type": "stream",
          "text": [
            "IGA-PP Done\n"
          ],
          "name": "stdout"
        }
      ]
    },
    {
      "metadata": {
        "id": "b-uMPClPaV0c",
        "colab_type": "text"
      },
      "cell_type": "markdown",
      "source": [
        ""
      ]
    },
    {
      "metadata": {
        "id": "7quwWZTJlwfV",
        "colab_type": "text"
      },
      "cell_type": "markdown",
      "source": [
        "## Part II: Multi-Agent Reinforcement Learning (24 points)"
      ]
    },
    {
      "metadata": {
        "id": "bBcOf9ENzRSt",
        "colab_type": "text"
      },
      "cell_type": "markdown",
      "source": [
        "For this part of the coursework, you will implement the [multi-agent deep deterministic policy gradient algorithm (MADDPG)](https://arxiv.org/abs/1706.02275) and get to see it work on the Waterworld environment, which is a modifed version of the Waterworld based on [Cooperative Multi-Agent Control Using Deep\n",
        "Reinforcement Learning](http://ala2017.it.nuigalway.ie/papers/ALA2017_Gupta.pdf).\n",
        "\n",
        "### Environment Description\n",
        "![waterworld](https://www.dropbox.com/s/kwfdq7301a4fkw6/demo.gif?raw=1)\n",
        "\n",
        "In this environment, agents (shown in blue) need to cooperate to capture moving food targets (shown in green) while avoiding poison targets (shown in red). Both the observation and action spaces are continuous, and the agents move around by applying a two-dimensional force. Each agent has several range-limited sensors facing outward with uniform angular spacing. The sensors are used to make distance and velocity measurements of other agents, food targets and poison targets. The agents receive a reward each time they collaborate to capture a food target, and are penalized when they collide with a poisoned target. They also receive an action penalty defined as the square norm of the force applied. Agents need to cooperate with each other as the environment needs exactly **n_coop** agents to catch food.\n",
        "\n",
        "The default number of sensors was set as 30, resulting in a 212-dimensional observation for each agent. The food reward was set to 10, and the poison penalty was −1. We also added a reward of 0.01 for encountering the food targets to ease exploration."
      ]
    },
    {
      "metadata": {
        "id": "2bRNAhv1QMC1",
        "colab_type": "text"
      },
      "cell_type": "markdown",
      "source": [
        "### Download Requirements and Set the Environment\n",
        "The following command will download the required scripts and set up the environment. Although **you do not need to modify any of them**, a good understanding of **model.py** and **memory.py** from [**CW_MARL.tgz**](https://www.dropbox.com/s/2mafz9eo8rczq75/CW_MARL.tgz) file can help you with the implementation of MADDPG."
      ]
    },
    {
      "metadata": {
        "id": "N0MTkFoNkLi2",
        "colab_type": "code",
        "colab": {
          "base_uri": "https://localhost:8080/",
          "height": 474
        },
        "outputId": "da1488e1-ac19-44b3-d3c8-37f171b258ad"
      },
      "cell_type": "code",
      "source": [
        "!wget https://www.dropbox.com/s/2mafz9eo8rczq75/CW_MARL.tgz\n",
        "!tar -zxf CW_MARL.tgz\n",
        "!apt-get install -y xvfb python-opengl > /dev/null 2>&1\n",
        "!pip install gym pyvirtualdisplay > /dev/null 2>&1"
      ],
      "execution_count": 142,
      "outputs": [
        {
          "output_type": "stream",
          "text": [
            "--2019-04-26 09:12:50--  https://www.dropbox.com/s/2mafz9eo8rczq75/CW_MARL.tgz\n",
            "Resolving www.dropbox.com (www.dropbox.com)... 162.125.8.1, 2620:100:601f:1::a27d:901\n",
            "Connecting to www.dropbox.com (www.dropbox.com)|162.125.8.1|:443... connected.\n",
            "HTTP request sent, awaiting response... 301 Moved Permanently\n",
            "Location: /s/raw/2mafz9eo8rczq75/CW_MARL.tgz [following]\n",
            "--2019-04-26 09:12:51--  https://www.dropbox.com/s/raw/2mafz9eo8rczq75/CW_MARL.tgz\n",
            "Reusing existing connection to www.dropbox.com:443.\n",
            "HTTP request sent, awaiting response... 302 Found\n",
            "Location: https://uc556a548110d2c32e5f6edf3c82.dl.dropboxusercontent.com/cd/0/inline/AfvW9H1lTqRJZzujxZbB-pcztaHKwyXB-ZwKa8gkZ0gE5zjRlB1efQzfOOScHGKhkBMciGKvlqv_Sl2I9FJ08yuINNJA5iH97Y9_vi7LN2G6Gw/file# [following]\n",
            "--2019-04-26 09:12:51--  https://uc556a548110d2c32e5f6edf3c82.dl.dropboxusercontent.com/cd/0/inline/AfvW9H1lTqRJZzujxZbB-pcztaHKwyXB-ZwKa8gkZ0gE5zjRlB1efQzfOOScHGKhkBMciGKvlqv_Sl2I9FJ08yuINNJA5iH97Y9_vi7LN2G6Gw/file\n",
            "Resolving uc556a548110d2c32e5f6edf3c82.dl.dropboxusercontent.com (uc556a548110d2c32e5f6edf3c82.dl.dropboxusercontent.com)... 162.125.8.6, 2620:100:601f:6::a27d:906\n",
            "Connecting to uc556a548110d2c32e5f6edf3c82.dl.dropboxusercontent.com (uc556a548110d2c32e5f6edf3c82.dl.dropboxusercontent.com)|162.125.8.6|:443... connected.\n",
            "HTTP request sent, awaiting response... 302 FOUND\n",
            "Location: /cd/0/inline2/AfuvXdChKz7wUCZJgGmR1ApWzdbvoL65Q68QE0nZwB3d04Oa1-fLdOrBApvV-HE8KoeP3M06lCowyai7FN6CfcKA66QzU6KKOeM7LeniAIcZ7tl1-yFlc-OIQNS2_WxwPZIY87ctDFrLNuTNyl7p-v7YNhcdnRTA4QXJBk3lU2WUfhUFCStfRDJDE8_ykcTqdyL6jwBzK6tG1CD_NN1S_o5EmS1D2IQHfgY9yO61YjxQK_nCVC7hDYNQx4R3TSqcW2Tt8Sjg1NLrTJ5f-5Hq6GdHmCBasF7EXRPxfZCUr4AmLi7ls2dtdTQ7Zk6c0PCnhBkpYyRbbrjWGu75c_wGXJLu/file [following]\n",
            "--2019-04-26 09:12:51--  https://uc556a548110d2c32e5f6edf3c82.dl.dropboxusercontent.com/cd/0/inline2/AfuvXdChKz7wUCZJgGmR1ApWzdbvoL65Q68QE0nZwB3d04Oa1-fLdOrBApvV-HE8KoeP3M06lCowyai7FN6CfcKA66QzU6KKOeM7LeniAIcZ7tl1-yFlc-OIQNS2_WxwPZIY87ctDFrLNuTNyl7p-v7YNhcdnRTA4QXJBk3lU2WUfhUFCStfRDJDE8_ykcTqdyL6jwBzK6tG1CD_NN1S_o5EmS1D2IQHfgY9yO61YjxQK_nCVC7hDYNQx4R3TSqcW2Tt8Sjg1NLrTJ5f-5Hq6GdHmCBasF7EXRPxfZCUr4AmLi7ls2dtdTQ7Zk6c0PCnhBkpYyRbbrjWGu75c_wGXJLu/file\n",
            "Reusing existing connection to uc556a548110d2c32e5f6edf3c82.dl.dropboxusercontent.com:443.\n",
            "HTTP request sent, awaiting response... 200 OK\n",
            "Length: 6373 (6.2K) [application/x-gtar]\n",
            "Saving to: ‘CW_MARL.tgz’\n",
            "\n",
            "CW_MARL.tgz         100%[===================>]   6.22K  --.-KB/s    in 0s      \n",
            "\n",
            "2019-04-26 09:12:52 (868 MB/s) - ‘CW_MARL.tgz’ saved [6373/6373]\n",
            "\n"
          ],
          "name": "stdout"
        }
      ]
    },
    {
      "metadata": {
        "id": "22rC-6i4YztB",
        "colab_type": "text"
      },
      "cell_type": "markdown",
      "source": [
        "### Implement the Parameter Update for MADDPG\n",
        "Implement MADDPG within the following framework. Based on the MADDPG update rule, complete the following functions with `# TODO` statements, which is called by the **update_policy()** function."
      ]
    },
    {
      "metadata": {
        "id": "RI19kbmx30na",
        "colab_type": "text"
      },
      "cell_type": "markdown",
      "source": [
        "###TODO: Compute the current Q value (2 points)\n",
        "Feed the **state** and **action** into **critics** to compute the current Q value.\n",
        "In MADDPG, the **critics** $Q^{\\mu}_i (\\mathbf{x},a_1, ..., a_N)$ is a *centralized action-value function* that takes as input the actions of all agents, $a_1,\\ldots, a_N$ following $N$ continuous policies $\\mu_i$, in addition to some state information $\\mathbf{x}$, and outputs the Q-value for agent $i$. In the simplest case, $\\mathbf{x}$ could consist of the observations of all agents, $\\mathbf{x} = (o_1, ..., o_N)$."
      ]
    },
    {
      "metadata": {
        "id": "-TFpCImq2YYm",
        "colab_type": "code",
        "colab": {}
      },
      "cell_type": "code",
      "source": [
        "########### TODO:Compute the current Q value (2 points) ###########\n",
        "def compute_current_q_value(whole_state, whole_action, critics, agent):\n",
        "  return _"
      ],
      "execution_count": 0,
      "outputs": []
    },
    {
      "metadata": {
        "id": "DMo0xjCt4TDL",
        "colab_type": "text"
      },
      "cell_type": "markdown",
      "source": [
        "### TODO: Compute TD-target (2 points)\n",
        "Use reward scaling in Q functions with the given **scale_reward** ratio.\n",
        "In MADDPG, the TD-target is given by\n",
        "$y = r_i + \\gamma\\, Q^{\\mu'}_i(\\mathbf{x}', a_1',\\ldots,a_N')\\big|_{a_j'=\\mu'_j(o_j)}$."
      ]
    },
    {
      "metadata": {
        "id": "48LsODly4gsH",
        "colab_type": "code",
        "colab": {}
      },
      "cell_type": "code",
      "source": [
        "########### TODO:Compute the TD-target (2 points) ###########\n",
        "def compute_target_q(target_Q, reward_i, scale_reward, gamma):\n",
        "  return _"
      ],
      "execution_count": 0,
      "outputs": []
    },
    {
      "metadata": {
        "id": "WhCMlujf5e6s",
        "colab_type": "text"
      },
      "cell_type": "markdown",
      "source": [
        "### TODO: Compute the actor loss (10 points)\n",
        "Given the gradient for the expected return in MADDPG as:\n",
        "$\\nabla_{\\theta_i} J(\\mu_i) = \\mathbb{E}_{\\mathbf{x},a \\sim \\mathcal{D}}[\\nabla_{\\theta_i} \\mu_i(a_i|o_i) \\nabla_{a_i} Q^{\\mu}_i (\\mathbf{x},a_1, ..., a_N)|_{a_i=\\mu_i (o_i)}]$,\n",
        "where $\\mathbf{x}$ consists of the observations of all agents, $\\mathbf{x} = (o_1, ..., o_N)$, and $\\mu_{\\theta_i}$ represents $N$ continuous policies w.r.t. parameters $\\theta_i$ (abbreviated as $\\mu_i$).\n",
        "The experience replay buffer $\\mathcal{D}$ contains the tuples $(\\mathbf{x},\\mathbf{x}',a_1,\\ldots,a_N,r_1,\\ldots,r_N)$, recording experiences of all agents.\n",
        "\n",
        "**You don't need to modify any other lines except the section with** `# TODO` **statements.**"
      ]
    },
    {
      "metadata": {
        "id": "F7sJq6YlXMAj",
        "colab_type": "code",
        "colab": {}
      },
      "cell_type": "code",
      "source": [
        "from model import Critic, Actor\n",
        "import torch as th\n",
        "from copy import deepcopy\n",
        "from memory import ReplayMemory, Experience\n",
        "from torch.optim import Adam\n",
        "import torch.nn as nn\n",
        "import numpy as np\n",
        "\n",
        "\n",
        "def soft_update(target, source, t):\n",
        "  for target_param, source_param in zip(target.parameters(),\n",
        "                                        source.parameters()):\n",
        "    target_param.data.copy_(\n",
        "      (1 - t) * target_param.data + t * source_param.data)\n",
        "\n",
        "    \n",
        "class MADDPG:\n",
        "  def __init__(self, n_agents, dim_obs, dim_act, batch_size,\n",
        "               capacity, episodes_before_train, scale_reward):\n",
        "    self.actors = [Actor(dim_obs, dim_act) for i in range(n_agents)]\n",
        "    self.critics = [Critic(n_agents, dim_obs,\n",
        "                           dim_act) for i in range(n_agents)]\n",
        "    self.actors_target = deepcopy(self.actors)\n",
        "    self.critics_target = deepcopy(self.critics)\n",
        "\n",
        "    self.n_agents = n_agents\n",
        "    self.n_states = dim_obs\n",
        "    self.n_actions = dim_act\n",
        "    self.memory = ReplayMemory(capacity)\n",
        "    self.batch_size = batch_size\n",
        "    self.use_cuda = th.cuda.is_available()\n",
        "    self.episodes_before_train = episodes_before_train\n",
        "    self.scale_reward = scale_reward\n",
        "\n",
        "    self.GAMMA = 0.95\n",
        "    self.tau = 0.01\n",
        "\n",
        "    self.var = [1.0 for i in range(n_agents)]\n",
        "    self.critic_optimizer = [Adam(x.parameters(),\n",
        "                                  lr=0.001) for x in self.critics]\n",
        "    self.actor_optimizer = [Adam(x.parameters(),\n",
        "                                 lr=0.0001) for x in self.actors]\n",
        "\n",
        "    if self.use_cuda:\n",
        "      for x in self.actors:\n",
        "        x.cuda()\n",
        "      for x in self.critics:\n",
        "        x.cuda()\n",
        "      for x in self.actors_target:\n",
        "        x.cuda()\n",
        "      for x in self.critics_target:\n",
        "        x.cuda()\n",
        "\n",
        "    self.steps_done = 0\n",
        "    self.episode_done = 0\n",
        "\n",
        "  def update_policy(self):\n",
        "    # do not train until exploration is enough\n",
        "    if self.episode_done <= self.episodes_before_train:\n",
        "      return None, None\n",
        "\n",
        "    ByteTensor = th.cuda.ByteTensor if self.use_cuda else th.ByteTensor\n",
        "    FloatTensor = th.cuda.FloatTensor if self.use_cuda else th.FloatTensor\n",
        "\n",
        "    # the list of loss for each agent\n",
        "    c_loss = []\n",
        "    a_loss = []\n",
        "    for agent in range(self.n_agents):\n",
        "      transitions = self.memory.sample(self.batch_size)\n",
        "      batch = Experience(*zip(*transitions))\n",
        "      non_final_mask = ByteTensor(list(map(lambda s: s is not None,\n",
        "                                           batch.next_states)))\n",
        "      # state_batch: batch_size x n_agents x dim_obs\n",
        "      state_batch = th.stack(batch.states).type(FloatTensor)\n",
        "      action_batch = th.stack(batch.actions).type(FloatTensor)\n",
        "      reward_batch = th.stack(batch.rewards).type(FloatTensor)\n",
        "      # : (batch_size_non_final) x n_agents x dim_obs\n",
        "      non_final_next_states = th.stack(\n",
        "        [s for s in batch.next_states\n",
        "         if s is not None]).type(FloatTensor)\n",
        "\n",
        "      # for current agent\n",
        "      \n",
        "      self.critic_optimizer[agent].zero_grad()\n",
        "      whole_state = state_batch.view(self.batch_size, -1)\n",
        "      whole_action = action_batch.view(self.batch_size, -1)\n",
        "      current_Q = compute_current_q_value(whole_state, whole_action,\n",
        "                                  self.critics, agent)\n",
        "\n",
        "      non_final_next_actions = [\n",
        "        self.actors_target[i](non_final_next_states[:,\n",
        "                              i,\n",
        "                              :]) for i in range(\n",
        "          self.n_agents)]\n",
        "      non_final_next_actions = th.stack(non_final_next_actions)\n",
        "      non_final_next_actions = (\n",
        "        non_final_next_actions.transpose(0,\n",
        "                                         1).contiguous())\n",
        "\n",
        "      target_Q = th.zeros(\n",
        "        self.batch_size).type(FloatTensor)\n",
        "\n",
        "      target_Q[non_final_mask] = self.critics_target[agent](\n",
        "        non_final_next_states.view(-1, self.n_agents * self.n_states),\n",
        "        non_final_next_actions.view(-1,\n",
        "                                    self.n_agents * self.n_actions)\n",
        "      ).squeeze()\n",
        "\n",
        "      target_Q = compute_target_q(target_Q.unsqueeze(1),\n",
        "                                  reward_batch[:, agent].unsqueeze(1),\n",
        "                                  self.scale_reward, self.GAMMA)\n",
        "\n",
        "      loss_Q = nn.MSELoss()(current_Q, target_Q.detach())\n",
        "      loss_Q.backward()\n",
        "      self.critic_optimizer[agent].step()\n",
        "      c_loss.append(loss_Q)\n",
        "\n",
        "      self.actor_optimizer[agent].zero_grad()\n",
        "      ########### TODO:Compute the actor loss (10 points)#######\n",
        "      ## For your reference, the actor loss of                ##\n",
        "      ##   single-agent DDPG can be computed as:              ##\n",
        "      ##                                                      ##\n",
        "      ##     actor_loss = -self.critic(                       ##\n",
        "      ##       state_batch, self.actor(state_batch))          ##\n",
        "      ##     actor_loss = actor_loss.mean()                   ##\n",
        "      ##                                                      ##\n",
        "      actor_loss = _\n",
        "      ################### End of TODO ##########################\n",
        "      actor_loss.backward()\n",
        "      self.actor_optimizer[agent].step()\n",
        "      a_loss.append(actor_loss)\n",
        "\n",
        "    if self.steps_done % 100 == 0 and self.steps_done > 0:\n",
        "      for i in range(self.n_agents):\n",
        "        soft_update(self.critics_target[i], self.critics[i], self.tau)\n",
        "        soft_update(self.actors_target[i], self.actors[i], self.tau)\n",
        "\n",
        "    return c_loss, a_loss\n",
        "\n",
        "  def select_action(self, state_batch):\n",
        "    # state_batch: n_agents x state_dim\n",
        "    actions = th.zeros(\n",
        "      self.n_agents,\n",
        "      self.n_actions)\n",
        "    FloatTensor = th.cuda.FloatTensor if self.use_cuda else th.FloatTensor\n",
        "    for i in range(self.n_agents):\n",
        "      sb = state_batch[i, :].detach()\n",
        "      act = self.actors[i](sb.unsqueeze(0)).squeeze()\n",
        "\n",
        "      act += th.from_numpy(\n",
        "        np.random.randn(2) * self.var[i]).type(FloatTensor)\n",
        "\n",
        "      if self.episode_done > self.episodes_before_train and \\\n",
        "          self.var[i] > 0.05:\n",
        "        self.var[i] *= 0.99998\n",
        "      act = th.clamp(act, -1.0, 1.0)\n",
        "\n",
        "      actions[i, :] = act\n",
        "    self.steps_done += 1\n",
        "\n",
        "    return actions"
      ],
      "execution_count": 0,
      "outputs": []
    },
    {
      "metadata": {
        "id": "WyCbsp_Ma4NS",
        "colab_type": "text"
      },
      "cell_type": "markdown",
      "source": [
        "### Training Environment Setup\n",
        "The following script will test the MADDPG algorithm within the Waterworld environment. **You do not need to modify any of them**, although you can change the arguments within the **args** dict to test the algorithm with different environment settings."
      ]
    },
    {
      "metadata": {
        "id": "gaupL-MrzQNc",
        "colab_type": "code",
        "colab": {}
      },
      "cell_type": "code",
      "source": [
        "from waterworld import MAWaterWorld\n",
        "import seaborn as sns\n",
        "import matplotlib.pyplot as plt\n",
        "import easydict\n",
        "import argparse\n",
        "from gym.logger import set_level\n",
        "from IPython import display as ipythondisplay\n",
        "\n",
        "from pyvirtualdisplay import Display\n",
        "display = Display(visible=0)\n",
        "display.start()\n",
        "\n",
        "set_level(40)\n",
        "\n",
        "# You can change the arguments to test the algorithm with different settings\n",
        "args = easydict.EasyDict({\n",
        "    \"n_pursuers\": 2,\n",
        "    \"n_evaders\": 50,\n",
        "    \"n_poison\": 50,\n",
        "    \"food_reward\": 10.0,\n",
        "    \"poison_reward\": -1.0,\n",
        "    \"encounter_reward\": 0.01,\n",
        "    \"n_coop\": 2,\n",
        "    \"capacity\": 1000000,\n",
        "    \"batch_size\": 1000,\n",
        "    \"episodes_before_train\": 10\n",
        "})\n",
        "\n",
        "food_reward = args.food_reward\n",
        "poison_reward = args.poison_reward\n",
        "encounter_reward = args.encounter_reward\n",
        "n_coop = args.n_coop\n",
        "scale_reward = 0.01\n",
        "\n",
        "world = MAWaterWorld(n_pursuers=args.n_pursuers, n_evaders=args.n_evaders,\n",
        "                     n_poison=args.n_poison, obstacle_radius=0.04,\n",
        "                     food_reward=food_reward,\n",
        "                     poison_reward=poison_reward,\n",
        "                     encounter_reward=encounter_reward,\n",
        "                     n_coop=n_coop,\n",
        "                     sensor_range=0.2, obstacle_loc=None, )\n",
        "\n",
        "np.random.seed(1234)\n",
        "th.manual_seed(1234)\n",
        "world.seed(1234)\n",
        "n_agents = world.n_pursuers\n",
        "n_states = world._pursuers[0]._obs_dim\n",
        "n_actions = 2\n",
        "capacity = args.capacity\n",
        "batch_size = args.batch_size\n",
        "\n",
        "episodes_before_train = args.episodes_before_train\n",
        "\n",
        "maddpg = MADDPG(n_agents, n_states, n_actions, batch_size, capacity,\n",
        "                episodes_before_train, scale_reward)"
      ],
      "execution_count": 0,
      "outputs": []
    },
    {
      "metadata": {
        "id": "RjzFY00OdM_L",
        "colab_type": "text"
      },
      "cell_type": "markdown",
      "source": [
        "\n",
        "### Run MADDPG Training within Waterworld Environment\n",
        "The following command will run the training process, the default number of training episodes and episode length are set to 100 and 1000 respectively. Make yourself a cup of tea as the training takes some time."
      ]
    },
    {
      "metadata": {
        "id": "i8SOveSrkQKh",
        "colab_type": "code",
        "colab": {}
      },
      "cell_type": "code",
      "source": [
        "n_episode = 100\n",
        "max_steps = 1000\n",
        "reward_record = []\n",
        "var_record = []\n",
        "\n",
        "FloatTensor = th.cuda.FloatTensor if maddpg.use_cuda else th.FloatTensor\n",
        "\n",
        "for i_episode in range(n_episode):\n",
        "  obs = world.reset()\n",
        "  obs = np.stack(obs)\n",
        "  if isinstance(obs, np.ndarray):\n",
        "    obs = th.from_numpy(obs).float()\n",
        "  total_reward = 0.0\n",
        "  rr = np.zeros((n_agents,))\n",
        "  for t in range(max_steps):\n",
        "    obs = obs.type(FloatTensor)\n",
        "    action = maddpg.select_action(obs).data.cpu()\n",
        "    obs_, reward, done, _ = world.step(action.numpy())\n",
        "\n",
        "    reward = th.FloatTensor(reward).type(FloatTensor)\n",
        "    obs_ = np.stack(obs_)\n",
        "    obs_ = th.from_numpy(obs_).float()\n",
        "    if t != max_steps - 1:\n",
        "      next_obs = obs_\n",
        "    else:\n",
        "      next_obs = None\n",
        "\n",
        "    total_reward += reward.sum()\n",
        "    rr += reward.cpu().numpy()\n",
        "    maddpg.memory.push(obs.data, action, next_obs, reward)\n",
        "    obs = next_obs\n",
        "\n",
        "    c_loss, a_loss = maddpg.update_policy()\n",
        "  maddpg.episode_done += 1\n",
        "  print('Episode: %d, reward = %f, explore_var = %f'\n",
        "        % (i_episode, total_reward, maddpg.var[0]))\n",
        "  reward_record.append(np.append(total_reward.cpu().numpy(), rr))\n",
        "  var_record.append(maddpg.var[0])\n",
        "\n",
        "  if maddpg.episode_done == maddpg.episodes_before_train:\n",
        "    print('training now begins...')\n",
        "    print('MADDPG on WaterWorld\\n' +\n",
        "          'scale_reward=%f\\n' % scale_reward +\n",
        "          'agent=%d' % n_agents +\n",
        "          ', coop=%d' % n_coop +\n",
        "          ' \\nlr=0.001, 0.0001, sensor_range=0.3\\n' +\n",
        "          'food=%f, poison=%f, encounter=%f' % (\n",
        "            food_reward,\n",
        "            poison_reward,\n",
        "            encounter_reward))\n"
      ],
      "execution_count": 0,
      "outputs": []
    },
    {
      "metadata": {
        "id": "BVHaku_Qd07R",
        "colab_type": "text"
      },
      "cell_type": "markdown",
      "source": [
        "### Tool: Plot the Training Curve (Reward w.r.t Episodes)\n",
        "You can use the following command to plot the training curve (**after** the model is trained with given **n_episode**s)."
      ]
    },
    {
      "metadata": {
        "id": "k2zGOm3J60Si",
        "colab_type": "code",
        "colab": {}
      },
      "cell_type": "code",
      "source": [
        "fig = plt.figure(figsize=(8, 8))\n",
        "ax1 = fig.add_subplot(111)\n",
        "\n",
        "ax1.plot(np.arange(len(reward_record)), np.array(reward_record))\n",
        "ax1.set_title('MADDPG on WaterWorld\\n' +\n",
        "                         'agent=%d' % n_agents +\n",
        "                         ', coop=%d' % n_coop +\n",
        "                         ', sensor_range=0.2\\n' +\n",
        "                         'food=%.2f, poison=%.2f, encounter=%.2f' % (\n",
        "                           food_reward,\n",
        "                           poison_reward,\n",
        "                           encounter_reward))\n",
        "ax1.set_ylabel('Reward')\n",
        "ax1.set_xlabel('Episode')\n",
        "ax1.legend(['Total'] + ['Agent-%d' % i for i in range(n_agents)])\n",
        "\n",
        "plt.show()"
      ],
      "execution_count": 0,
      "outputs": []
    },
    {
      "metadata": {
        "id": "E2-IvmEhensL",
        "colab_type": "text"
      },
      "cell_type": "markdown",
      "source": [
        "### Tool: Render the Environment to Check the Behaviour of Agents\n",
        "You can also render the Waterworld environment and see the behaviour of agents after training."
      ]
    },
    {
      "metadata": {
        "id": "vsOVko_L5FUG",
        "colab_type": "code",
        "colab": {}
      },
      "cell_type": "code",
      "source": [
        "render_steps = 5\n",
        "obs = world.reset()\n",
        "obs = np.stack(obs)\n",
        "if isinstance(obs, np.ndarray):\n",
        "  obs = th.from_numpy(obs).float()\n",
        "for t in range(render_steps):\n",
        "    plt.imshow(world.render(screen_size=800))\n",
        "    ipythondisplay.clear_output(wait=True)\n",
        "    ipythondisplay.display(plt.gcf())\n",
        "\n",
        "    obs = obs.type(FloatTensor)\n",
        "    action = maddpg.select_action(obs).data.cpu()\n",
        "    obs_, reward, done, _ = world.step(action.numpy())\n",
        "    \n",
        "ipythondisplay.clear_output(wait=True)"
      ],
      "execution_count": 0,
      "outputs": []
    },
    {
      "metadata": {
        "id": "cGT3cv3H3cFw",
        "colab_type": "text"
      },
      "cell_type": "markdown",
      "source": [
        "### TODO: Search for Better Hyperparameters (10 points)\n",
        "The choice of hyperparameters in Deep Reinforcement Learning (especially MARL) can have a significant impact on model performance. The default setting of hyperparameters can already result in some improvements than the random policy but is far from good enough. In this part, you are encouraged to explore and search for better hyperparameters and give in-depth analysis about how those hyperparameters are affecting the training of MADDPG. Points will be given based on both your model performance (reward) and your analysis report. The following section gives you a brief example of what you should cover in the report."
      ]
    },
    {
      "metadata": {
        "id": "agsDhQ_pFU5t",
        "colab_type": "text"
      },
      "cell_type": "markdown",
      "source": [
        "*   What hyperparameters did you choose? And why?\n",
        "    \n",
        "    \\# TODO\n",
        "    \n",
        "*   How these hyperparameters affect the performance of the algorithm?\n",
        "    \n",
        "    \\# TODO\n",
        "    \n",
        "*   How is your model performance? (Including the speed of convergence, the converged episode reward, etc. Add plots where applicable.)\n",
        "  \n",
        "     \\# TODO\n",
        "\n"
      ]
    },
    {
      "metadata": {
        "id": "fgzDJRKELd6v",
        "colab_type": "code",
        "colab": {}
      },
      "cell_type": "code",
      "source": [
        "# TODO, write your model tuning code here\n",
        "\n",
        "best_score = _"
      ],
      "execution_count": 0,
      "outputs": []
    },
    {
      "metadata": {
        "id": "jyhtZjqwJtCu",
        "colab_type": "text"
      },
      "cell_type": "markdown",
      "source": [
        "## Submission Validation (DO NOT CHANGE THIS PART)\n",
        "\n",
        "You can check if your submission is valid by the following code, failing this validity check is only a sufficient condition for telling you something went wrong.\n"
      ]
    },
    {
      "metadata": {
        "id": "B4qTbPOKJwET",
        "colab_type": "code",
        "colab": {
          "base_uri": "https://localhost:8080/",
          "height": 244
        },
        "outputId": "23819a16-a2eb-4c00-ac8c-2abd4dcf14e0"
      },
      "cell_type": "code",
      "source": [
        "for answer in [pi_alpha_nash, pi_beta_nash]:\n",
        "  assert isinstance(answer, float)\n",
        "\n",
        "for f in [\n",
        "    U, V, IGA, WoLF_IGA, IGA_PP, compute_current_q_value, compute_target_q\n",
        "    ]:\n",
        "  assert callable(f)"
      ],
      "execution_count": 66,
      "outputs": [
        {
          "output_type": "error",
          "ename": "NameError",
          "evalue": "ignored",
          "traceback": [
            "\u001b[0;31m---------------------------------------------------------------------------\u001b[0m",
            "\u001b[0;31mNameError\u001b[0m                                 Traceback (most recent call last)",
            "\u001b[0;32m<ipython-input-66-ae692ad932a4>\u001b[0m in \u001b[0;36m<module>\u001b[0;34m()\u001b[0m\n\u001b[1;32m      3\u001b[0m \u001b[0;34m\u001b[0m\u001b[0m\n\u001b[1;32m      4\u001b[0m for f in [\n\u001b[0;32m----> 5\u001b[0;31m     \u001b[0mU\u001b[0m\u001b[0;34m,\u001b[0m \u001b[0mV\u001b[0m\u001b[0;34m,\u001b[0m \u001b[0mIGA\u001b[0m\u001b[0;34m,\u001b[0m \u001b[0mWoLF_IGA\u001b[0m\u001b[0;34m,\u001b[0m \u001b[0mIGA_PP\u001b[0m\u001b[0;34m,\u001b[0m \u001b[0mcompute_current_q_value\u001b[0m\u001b[0;34m,\u001b[0m \u001b[0mcompute_target_q\u001b[0m\u001b[0;34m\u001b[0m\u001b[0;34m\u001b[0m\u001b[0m\n\u001b[0m\u001b[1;32m      6\u001b[0m     ]:\n\u001b[1;32m      7\u001b[0m   \u001b[0;32massert\u001b[0m \u001b[0mcallable\u001b[0m\u001b[0;34m(\u001b[0m\u001b[0mf\u001b[0m\u001b[0;34m)\u001b[0m\u001b[0;34m\u001b[0m\u001b[0;34m\u001b[0m\u001b[0m\n",
            "\u001b[0;31mNameError\u001b[0m: name 'compute_current_q_value' is not defined"
          ]
        }
      ]
    }
  ]
}